{
 "cells": [
  {
   "cell_type": "code",
   "execution_count": 33,
   "metadata": {},
   "outputs": [],
   "source": [
    "from PIL import Image\n",
    "import imageio\n",
    "import numpy as np\n",
    "import os"
   ]
  },
  {
   "cell_type": "code",
   "execution_count": 46,
   "metadata": {},
   "outputs": [],
   "source": [
    "def writeSlice(cutPoint):\n",
    "    counter = 1\n",
    "    for img in os.listdir('./train/Positive'):\n",
    "        if (counter > cutPoint):\n",
    "            break\n",
    "        if \"DS_Store\" not in img:\n",
    "            im = np.array(Image.open('./train/Positive/' + img))\n",
    "            saveName = './RUS_POS/50_50/' + img\n",
    "            imageio.imwrite(saveName, im)\n",
    "            counter += 1"
   ]
  },
  {
   "cell_type": "code",
   "execution_count": 47,
   "metadata": {},
   "outputs": [],
   "source": [
    "# 5760 Pos 1421 Neg, 7181 Total\n",
    "# 80 : 20 Split\n",
    "\n",
    "# 70: 30 -- 3316\n",
    "# 65 : 35 -- 2639\n",
    "# 60 : 40 -- 2132\n",
    "# 55 : 45 -- 1737\n",
    "# 50 : 50 -- 1421\n",
    "\n",
    "# x / 1421 + x = 80 / 100\n",
    "# 100x = 80(1421 + x)\n",
    "# 100x = 113,680 + 80x\n",
    "# 20x = 113,680\n",
    "# x = 5,684\n",
    "\n",
    "# 70 * 1421 / 70"
   ]
  },
  {
   "cell_type": "code",
   "execution_count": 48,
   "metadata": {},
   "outputs": [],
   "source": [
    "writeSlice(1421)"
   ]
  },
  {
   "cell_type": "code",
   "execution_count": null,
   "metadata": {},
   "outputs": [],
   "source": []
  }
 ],
 "metadata": {
  "kernelspec": {
   "display_name": "Python 3",
   "language": "python",
   "name": "python3"
  },
  "language_info": {
   "codemirror_mode": {
    "name": "ipython",
    "version": 3
   },
   "file_extension": ".py",
   "mimetype": "text/x-python",
   "name": "python",
   "nbconvert_exporter": "python",
   "pygments_lexer": "ipython3",
   "version": "3.6.4"
  }
 },
 "nbformat": 4,
 "nbformat_minor": 2
}
