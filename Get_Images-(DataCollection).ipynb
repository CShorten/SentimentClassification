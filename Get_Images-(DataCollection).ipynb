{
 "cells": [
  {
   "cell_type": "code",
   "execution_count": null,
   "metadata": {},
   "outputs": [],
   "source": [
    "import urllib.request\n",
    "from PIL import Image\n",
    "import matplotlib.pyplot as plt\n",
    "import numpy as np\n",
    "import imageio\n",
    "%matplotlib inline\n",
    "import csv\n",
    "\n",
    "counter = 1\n",
    "PositiveCounter = 1\n",
    "NegativeCounter = 1\n",
    "HighlyPositiveCounter = 1\n",
    "HighlyNegativeCounter = 1\n",
    "NeutralCounter = 1\n",
    "with open('./Dataset.csv') as csvfile:\n",
    "    csv_reader = csv.reader(csvfile)\n",
    "    for row in csv_reader:\n",
    "            if 'imageurl' not in row[1]:\n",
    "                img = urllib.request.urlretrieve(row[1])\n",
    "                img = np.array(Image.open(img[0]))\n",
    "                if row[0] == 'Positive':\n",
    "                    label = './Images/Positive/Positive-' + str(PositiveCounter) + '.jpg'\n",
    "                    PositiveCounter += 1\n",
    "                elif row[0] == 'Negative':\n",
    "                    label = './Images/Negative/Negative-' + str(NegativeCounter) + '.jpg'\n",
    "                    NegativeCounter += 1\n",
    "                elif row[0] == 'Highly positive':\n",
    "                    label = './Images/HighlyPositive/HighlyPositive-' + str(HighlyPositiveCounter) + '.jpg'\n",
    "                    HighlyPositiveCounter += 1\n",
    "                elif row[0] == 'Highly negative':\n",
    "                    label = './Images/HighlyNegative/HighlyNegative-' + str(HighlyNegativeCounter) + '.jpg'\n",
    "                    HighlyNegativeCounter += 1\n",
    "                elif row[0] == 'Neutral':\n",
    "                    label = './Images/Neutral/Neutral-' + str(NeutralCounter) + '.jpg'\n",
    "                    NeutralCounter += 1\n",
    "                else:\n",
    "                    print(row[0])\n",
    "                imageio.imwrite(label, img)\n",
    "        counter += 1"
   ]
  },
  {
   "cell_type": "code",
   "execution_count": null,
   "metadata": {},
   "outputs": [],
   "source": []
  }
 ],
 "metadata": {
  "kernelspec": {
   "display_name": "Python 3",
   "language": "python",
   "name": "python3"
  },
  "language_info": {
   "codemirror_mode": {
    "name": "ipython",
    "version": 3
   },
   "file_extension": ".py",
   "mimetype": "text/x-python",
   "name": "python",
   "nbconvert_exporter": "python",
   "pygments_lexer": "ipython3",
   "version": "3.6.4"
  }
 },
 "nbformat": 4,
 "nbformat_minor": 2
}
