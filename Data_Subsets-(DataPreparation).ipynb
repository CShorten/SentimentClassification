{
 "cells": [
  {
   "cell_type": "code",
   "execution_count": 6,
   "metadata": {},
   "outputs": [],
   "source": [
    "from PIL import Image\n",
    "import imageio\n",
    "import numpy as np\n",
    "import os"
   ]
  },
  {
   "cell_type": "code",
   "execution_count": 21,
   "metadata": {},
   "outputs": [],
   "source": [
    "# 90%, 80%, 70%, 50%, 25%, 10%, 5%, 1%, 0.5%, 0.1% --> 10\n",
    "def writeSlice(posCut, negCut):\n",
    "    for i in range(1, posCut+1):\n",
    "        im = np.array(Image.open('./Images/Positive/Positive_'+str(i)+'.jpg'))\n",
    "        saveName = './DataSubsets/1/Positive/Positive-'+str(i)+'.jpg'\n",
    "        imageio.imwrite(saveName, im)\n",
    "        \n",
    "    for j in range(1, negCut+1):\n",
    "        im = np.array(Image.open('./Images/Negative/Negative_'+str(j)+'.jpg'))\n",
    "        saveName = './DataSubsets/1/Negative/Negative-'+str(j)+'.jpg'\n",
    "        imageio.imwrite(saveName, im)"
   ]
  },
  {
   "cell_type": "code",
   "execution_count": 22,
   "metadata": {},
   "outputs": [
    {
     "data": {
      "text/plain": [
       "16.32"
      ]
     },
     "execution_count": 22,
     "metadata": {},
     "output_type": "execute_result"
    }
   ],
   "source": [
    "1632*.01"
   ]
  },
  {
   "cell_type": "code",
   "execution_count": 23,
   "metadata": {},
   "outputs": [],
   "source": [
    "writeSlice(16,16)"
   ]
  },
  {
   "cell_type": "code",
   "execution_count": null,
   "metadata": {},
   "outputs": [],
   "source": []
  }
 ],
 "metadata": {
  "kernelspec": {
   "display_name": "Python 3",
   "language": "python",
   "name": "python3"
  },
  "language_info": {
   "codemirror_mode": {
    "name": "ipython",
    "version": 3
   },
   "file_extension": ".py",
   "mimetype": "text/x-python",
   "name": "python",
   "nbconvert_exporter": "python",
   "pygments_lexer": "ipython3",
   "version": "3.6.7"
  }
 },
 "nbformat": 4,
 "nbformat_minor": 2
}
